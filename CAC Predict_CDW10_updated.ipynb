{
 "cells": [
  {
   "cell_type": "code",
   "execution_count": 1,
   "metadata": {},
   "outputs": [
    {
     "name": "stdout",
     "output_type": "stream",
     "text": [
      "✅ 병합 완료: 'merged_patient_data_selected_by_median_updated.xlsx' 저장됨\n"
     ]
    }
   ],
   "source": [
    "import pandas as pd\n",
    "\n",
    "# 1. Load patient list\n",
    "patient_df = pd.read_excel(\"CRE_4399list.xlsx\")\n",
    "\n",
    "# 2. Load lab data\n",
    "lab_df = pd.read_excel(\"CRE_812311labonlydata.xlsx\", skiprows=1)\n",
    "\n",
    "# 3. Rename columns\n",
    "lab_df.columns = [\"환자번호\", \"환자명\", \"성별\", \"생년월일\", \"검사시행일\", \"검사명\", \"검사결과\",\n",
    "                  \"BMI\", \"기록당시나이\", \"수축기혈압\", \"이완기혈압\"]\n",
    "\n",
    "# 4. Define test map\n",
    "test_map = {\n",
    "    \"Total Cholesterol\": \"tc\",\n",
    "    \"LDL\": \"ldl\",\n",
    "    \"HDL\": \"hdl\",\n",
    "    \"Triglyceride\": \"tg\",\n",
    "    \"Neutrophil\": \"neut\",\n",
    "    \"Lymphocyte\": \"lymph\",\n",
    "    \"eGFR\": \"egfr\",\n",
    "    \"CRP\": \"crp\"\n",
    "}\n",
    "\n",
    "pattern = \"|\".join(test_map.keys())\n",
    "lab_df = lab_df[lab_df[\"검사명\"].str.contains(pattern, case=False, na=False)].copy()\n",
    "\n",
    "# 5. 정규화된 검사명 부여\n",
    "for key, val in test_map.items():\n",
    "    lab_df.loc[lab_df[\"검사명\"].str.contains(key, case=False, na=False), \"검사명정리\"] = val\n",
    "\n",
    "# 6. 날짜/숫자 변환\n",
    "lab_df[\"검사시행일\"] = pd.to_datetime(lab_df[\"검사시행일\"], errors=\"coerce\")\n",
    "lab_df[\"검사결과\"] = pd.to_numeric(lab_df[\"검사결과\"], errors=\"coerce\")\n",
    "\n",
    "# 7. median 기준 조건 필터링 + 최신 검사 선택\n",
    "filtered_results = []\n",
    "\n",
    "for test in lab_df[\"검사명정리\"].unique():\n",
    "    df_sub = lab_df[lab_df[\"검사명정리\"] == test].copy()\n",
    "    median_vals = df_sub.groupby(\"환자번호\")[\"검사결과\"].median()\n",
    "\n",
    "    for pid, group in df_sub.groupby(\"환자번호\"):\n",
    "        if pid not in median_vals:\n",
    "            continue\n",
    "        median = median_vals[pid]\n",
    "        # 선택 기준\n",
    "        if test in [\"tc\", \"ldl\", \"neut\", \"hdl\", \"crp\", \"tg\"]:\n",
    "            filtered = group[group[\"검사결과\"] > median]\n",
    "        elif test in [\"lymph\", \"egfr\"]:\n",
    "            filtered = group[group[\"검사결과\"] < median]\n",
    "        else:\n",
    "            continue\n",
    "\n",
    "        if not filtered.empty:\n",
    "            most_recent = filtered.sort_values(\"검사시행일\", ascending=False).iloc[0]\n",
    "            filtered_results.append({\n",
    "                \"환자번호\": pid,\n",
    "                test: most_recent[\"검사결과\"]\n",
    "            })\n",
    "\n",
    "# 8. Pivot 형태로 구성\n",
    "filtered_df = pd.DataFrame(filtered_results)\n",
    "pivot_df = filtered_df.groupby(\"환자번호\").first().reset_index()\n",
    "\n",
    "# 9. Vital 정보 (BMI, 나이, 혈압)\n",
    "vitals = lab_df.dropna(subset=[\"BMI\", \"기록당시나이\", \"수축기혈압\", \"이완기혈압\"])\n",
    "vitals = vitals.sort_values([\"환자번호\", \"검사시행일\"])\n",
    "vitals = vitals.drop_duplicates(\"환자번호\", keep=\"last\")\n",
    "vitals = vitals[[\"환자번호\", \"BMI\", \"기록당시나이\", \"수축기혈압\", \"이완기혈압\"]]\n",
    "\n",
    "# 10. Merge all\n",
    "merged = patient_df.merge(vitals, on=\"환자번호\", how=\"left\")\n",
    "merged = merged.merge(pivot_df, on=\"환자번호\", how=\"left\")\n",
    "\n",
    "# 11. Save\n",
    "merged.to_excel(\"merged_patient_data_selected_by_median_updated.xlsx\", index=False)\n",
    "print(\"✅ 병합 완료: 'merged_patient_data_selected_by_median_updated.xlsx' 저장됨\")\n"
   ]
  }
 ],
 "metadata": {
  "kernelspec": {
   "display_name": "Python 3",
   "language": "python",
   "name": "python3"
  },
  "language_info": {
   "codemirror_mode": {
    "name": "ipython",
    "version": 3
   },
   "file_extension": ".py",
   "mimetype": "text/x-python",
   "name": "python",
   "nbconvert_exporter": "python",
   "pygments_lexer": "ipython3",
   "version": "3.13.5"
  }
 },
 "nbformat": 4,
 "nbformat_minor": 2
}
