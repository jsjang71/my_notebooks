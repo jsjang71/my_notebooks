{
 "cells": [
  {
   "cell_type": "code",
   "execution_count": 1,
   "id": "1f8353d7",
   "metadata": {},
   "outputs": [
    {
     "name": "stdout",
     "output_type": "stream",
     "text": [
      "CACS_binary\n",
      "0    1889\n",
      "1     912\n",
      "Name: count, dtype: int64\n",
      "✅ 파일 저장 완료: CACS_dataset_with_binary.xlsx\n"
     ]
    }
   ],
   "source": [
    "import pandas as pd\n",
    "\n",
    "# 1. Load the dataset\n",
    "df = pd.read_excel(\"merged_patient_data_final_imputed.xlsx\")\n",
    "\n",
    "# 2. Create binary outcome variable: CACS ≥ 100 → 1, else 0\n",
    "df[\"CACS_binary\"] = (df[\"CACS\"] >= 100).astype(int)\n",
    "\n",
    "# 3. Check distribution\n",
    "print(df[\"CACS_binary\"].value_counts())\n",
    "\n",
    "# 4. Save for next steps (optional)\n",
    "df.to_excel(\"CACS_dataset_with_binary.xlsx\", index=False)\n",
    "print(\"✅ 파일 저장 완료: CACS_dataset_with_binary.xlsx\")\n"
   ]
  }
 ],
 "metadata": {
  "kernelspec": {
   "display_name": "base",
   "language": "python",
   "name": "python3"
  },
  "language_info": {
   "codemirror_mode": {
    "name": "ipython",
    "version": 3
   },
   "file_extension": ".py",
   "mimetype": "text/x-python",
   "name": "python",
   "nbconvert_exporter": "python",
   "pygments_lexer": "ipython3",
   "version": "3.12.3"
  }
 },
 "nbformat": 4,
 "nbformat_minor": 5
}
