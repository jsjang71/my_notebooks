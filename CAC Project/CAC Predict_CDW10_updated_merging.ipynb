{
 "cells": [
  {
   "cell_type": "code",
   "execution_count": 1,
   "id": "876f98b2",
   "metadata": {},
   "outputs": [
    {
     "name": "stdout",
     "output_type": "stream",
     "text": [
      "✅ 완료: merged_patient_data_final_imputed.xlsx 저장됨\n"
     ]
    }
   ],
   "source": [
    "import pandas as pd\n",
    "from sklearn.experimental import enable_iterative_imputer  # noqa\n",
    "from sklearn.impute import IterativeImputer\n",
    "\n",
    "# 1. Load dataset\n",
    "df = pd.read_excel(\"merged_patient_data_final_ready.xlsx\")\n",
    "\n",
    "# 2. Clean 'age' column if necessary (e.g., '70yrs' → 70)\n",
    "df['age'] = df['age'].astype(str).str.extract(r'(\\d+)').astype(float)\n",
    "\n",
    "# 3. Separate categorical columns to exclude from imputation\n",
    "id_cols = ['id', 'name', 'sex', 'birth']  # not to impute\n",
    "X = df.drop(columns=id_cols)\n",
    "\n",
    "# 4. Apply Iterative Imputer\n",
    "imputer = IterativeImputer(max_iter=10, random_state=42)\n",
    "X_imputed = imputer.fit_transform(X)\n",
    "\n",
    "# 5. Convert back to DataFrame\n",
    "X_imputed_df = pd.DataFrame(X_imputed, columns=X.columns)\n",
    "\n",
    "# 6. Merge with ID columns\n",
    "df_final = pd.concat([df[id_cols].reset_index(drop=True), X_imputed_df], axis=1)\n",
    "\n",
    "# 7. Save to Excel\n",
    "df_final.to_excel(\"merged_patient_data_final_imputed.xlsx\", index=False)\n",
    "print(\"✅ 완료: merged_patient_data_final_imputed.xlsx 저장됨\")\n"
   ]
  }
 ],
 "metadata": {
  "kernelspec": {
   "display_name": "base",
   "language": "python",
   "name": "python3"
  },
  "language_info": {
   "codemirror_mode": {
    "name": "ipython",
    "version": 3
   },
   "file_extension": ".py",
   "mimetype": "text/x-python",
   "name": "python",
   "nbconvert_exporter": "python",
   "pygments_lexer": "ipython3",
   "version": "3.12.3"
  }
 },
 "nbformat": 4,
 "nbformat_minor": 5
}
