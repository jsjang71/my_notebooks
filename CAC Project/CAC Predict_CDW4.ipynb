{
 "cells": [
  {
   "cell_type": "code",
   "execution_count": 1,
   "metadata": {},
   "outputs": [],
   "source": [
    "import pandas as pd\n",
    "\n",
    "# 1. Load patient master list\n",
    "patient_df = pd.read_excel(\"CRE_4399list.xlsx\")\n",
    "\n",
    "# 2. Load all lab data (skip header row, 전체 불러오기)\n",
    "lab_df = pd.read_excel(\"CRE_812311labonlydata.xlsx\", skiprows=1)\n",
    "\n",
    "# 3. Rename columns for clarity\n",
    "lab_df.columns = [\"환자번호\", \"환자명\", \"성별\", \"생년월일\", \"검사시행일\", \"검사명\", \"검사결과\",\n",
    "                  \"BMI\", \"기록당시나이\", \"수축기혈압\", \"이완기혈압\"]\n",
    "\n",
    "# 4. Define 8 lab test keywords and mapping\n",
    "test_map = {\n",
    "    \"Total Cholesterol\": \"total\",\n",
    "    \"LDL\": \"ldl\",\n",
    "    \"Triglyceride\": \"tg\",\n",
    "    \"HDL\": \"hdl\",\n",
    "    \"eGFR\": \"egfr\",\n",
    "    \"Neutrophil\": \"neut\",\n",
    "    \"Lymphocyte\": \"lymph\",\n",
    "    \"CRP\": \"crp\"\n",
    "}\n",
    "\n",
    "# 5. Filter for relevant lab tests\n",
    "pattern = \"|\".join(test_map.keys())\n",
    "lab_df = lab_df[lab_df[\"검사명\"].str.contains(pattern, case=False, na=False)].copy()\n",
    "\n",
    "# 6. Normalize 검사명\n",
    "for key, value in test_map.items():\n",
    "    lab_df.loc[lab_df[\"검사명\"].str.contains(key, case=False, na=False), \"검사명정리\"] = value\n",
    "\n",
    "# 7. Keep most recent test result per patient per test\n",
    "lab_df[\"검사시행일\"] = pd.to_datetime(lab_df[\"검사시행일\"], errors=\"coerce\")\n",
    "lab_df = lab_df.sort_values([\"환자번호\", \"검사명정리\", \"검사시행일\"])\n",
    "recent_tests = lab_df.drop_duplicates([\"환자번호\", \"검사명정리\"], keep=\"last\")\n",
    "\n",
    "# 8. Pivot lab tests: one row per patient\n",
    "pivot_tests = recent_tests.pivot(index=\"환자번호\", columns=\"검사명정리\", values=\"검사결과\").reset_index()\n",
    "\n",
    "# 9. Get recent BMI / 나이 / 혈압 (1 row per 환자)\n",
    "vitals = lab_df.dropna(subset=[\"BMI\", \"기록당시나이\", \"수축기혈압\", \"이완기혈압\"])\n",
    "vitals = vitals.sort_values([\"환자번호\", \"검사시행일\"])\n",
    "vitals = vitals.drop_duplicates([\"환자번호\"], keep=\"last\")\n",
    "vitals = vitals[[\"환자번호\", \"BMI\", \"기록당시나이\", \"수축기혈압\", \"이완기혈압\"]]\n",
    "\n",
    "# 10. Merge everything\n",
    "merged = patient_df.merge(vitals, on=\"환자번호\", how=\"left\")\n",
    "merged = merged.merge(pivot_tests, on=\"환자번호\", how=\"left\")\n",
    "\n",
    "# 11. Save output to Excel\n",
    "merged.to_excel(\"merged_patient_data_all.xlsx\", index=False)\n"
   ]
  }
 ],
 "metadata": {
  "kernelspec": {
   "display_name": "Python 3",
   "language": "python",
   "name": "python3"
  },
  "language_info": {
   "codemirror_mode": {
    "name": "ipython",
    "version": 3
   },
   "file_extension": ".py",
   "mimetype": "text/x-python",
   "name": "python",
   "nbconvert_exporter": "python",
   "pygments_lexer": "ipython3",
   "version": "3.13.5"
  }
 },
 "nbformat": 4,
 "nbformat_minor": 2
}
